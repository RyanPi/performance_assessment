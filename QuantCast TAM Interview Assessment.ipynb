{
 "cells": [
  {
   "cell_type": "markdown",
   "metadata": {},
   "source": [
    "# QuantCast Campaign Performance Assessment\n",
    "In this notebook we are going to be reviewing performance data from an anonymous campaign. We'll be reviewing typical campaign performance metrics such as: \n",
    "- Impressions = number of ads shown\n",
    "- Clicks = Number of clicks on the ad shown\n",
    "- Conversions = number of purchases on the client’s website, e..g a person who saw the client’s ad later bought a pair of shoes on the client’s website.\n",
    "- Cost = cost of purchasing the impressions\n",
    "- Click Through Rate % (CTR) = Click / Impressions\n",
    "- Cost per Action (CPA) = Cost / Conversions\n",
    "- Conversion Rate % (CVR) = Conversion / Impressions\n",
    "\n",
    "After reviewing the data we'll address the following questions and draw final conclusions:\n",
    "- What type of trends do you see in the performance data? \n",
    "- What is your recommendation based on these trends? \n",
    "- If you were managing this campaign – what are some suggestions you could make to the client?"
   ]
  },
  {
   "cell_type": "code",
   "execution_count": 306,
   "metadata": {},
   "outputs": [
    {
     "data": {
      "text/html": [
       "<div>\n",
       "<style scoped>\n",
       "    .dataframe tbody tr th:only-of-type {\n",
       "        vertical-align: middle;\n",
       "    }\n",
       "\n",
       "    .dataframe tbody tr th {\n",
       "        vertical-align: top;\n",
       "    }\n",
       "\n",
       "    .dataframe thead th {\n",
       "        text-align: right;\n",
       "    }\n",
       "</style>\n",
       "<table border=\"1\" class=\"dataframe\">\n",
       "  <thead>\n",
       "    <tr style=\"text-align: right;\">\n",
       "      <th></th>\n",
       "      <th>Date</th>\n",
       "      <th>Impressions</th>\n",
       "      <th>Clicks</th>\n",
       "      <th>Conversions</th>\n",
       "      <th>Budget Delivered</th>\n",
       "    </tr>\n",
       "  </thead>\n",
       "  <tbody>\n",
       "    <tr>\n",
       "      <th>0</th>\n",
       "      <td>1/1/2019</td>\n",
       "      <td>11,506,995</td>\n",
       "      <td>1,672</td>\n",
       "      <td>88</td>\n",
       "      <td>$12,124.14</td>\n",
       "    </tr>\n",
       "    <tr>\n",
       "      <th>1</th>\n",
       "      <td>1/2/2019</td>\n",
       "      <td>9,394,458</td>\n",
       "      <td>1,516</td>\n",
       "      <td>179</td>\n",
       "      <td>$9,838.45</td>\n",
       "    </tr>\n",
       "    <tr>\n",
       "      <th>2</th>\n",
       "      <td>1/3/2019</td>\n",
       "      <td>4,696,388</td>\n",
       "      <td>878</td>\n",
       "      <td>129</td>\n",
       "      <td>$6,858.67</td>\n",
       "    </tr>\n",
       "    <tr>\n",
       "      <th>3</th>\n",
       "      <td>1/4/2019</td>\n",
       "      <td>8,987,784</td>\n",
       "      <td>1,179</td>\n",
       "      <td>107</td>\n",
       "      <td>$9,566.55</td>\n",
       "    </tr>\n",
       "    <tr>\n",
       "      <th>4</th>\n",
       "      <td>1/5/2019</td>\n",
       "      <td>8,923,751</td>\n",
       "      <td>1,171</td>\n",
       "      <td>88</td>\n",
       "      <td>$9,322.50</td>\n",
       "    </tr>\n",
       "  </tbody>\n",
       "</table>\n",
       "</div>"
      ],
      "text/plain": [
       "       Date Impressions Clicks  Conversions  Budget Delivered \n",
       "0  1/1/2019  11,506,995  1,672           88        $12,124.14 \n",
       "1  1/2/2019   9,394,458  1,516          179         $9,838.45 \n",
       "2  1/3/2019   4,696,388    878          129         $6,858.67 \n",
       "3  1/4/2019   8,987,784  1,179          107         $9,566.55 \n",
       "4  1/5/2019   8,923,751  1,171           88         $9,322.50 "
      ]
     },
     "execution_count": 306,
     "metadata": {},
     "output_type": "execute_result"
    }
   ],
   "source": [
    "import pandas as pd\n",
    "data = pd.read_csv(\"Downloads/CS Interview Test Question Data - Data Viz.csv\")\n",
    "data.head(5)"
   ]
  },
  {
   "cell_type": "code",
   "execution_count": 307,
   "metadata": {},
   "outputs": [
    {
     "name": "stdout",
     "output_type": "stream",
     "text": [
      "<class 'pandas.core.frame.DataFrame'>\n",
      "RangeIndex: 365 entries, 0 to 364\n",
      "Data columns (total 5 columns):\n",
      " #   Column              Non-Null Count  Dtype \n",
      "---  ------              --------------  ----- \n",
      " 0   Date                365 non-null    object\n",
      " 1   Impressions         365 non-null    object\n",
      " 2   Clicks              365 non-null    object\n",
      " 3   Conversions         365 non-null    int64 \n",
      " 4    Budget Delivered   365 non-null    object\n",
      "dtypes: int64(1), object(4)\n",
      "memory usage: 14.4+ KB\n"
     ]
    }
   ],
   "source": [
    "data.info()"
   ]
  },
  {
   "cell_type": "markdown",
   "metadata": {},
   "source": [
    "## Cleaning the Data for Analysis\n",
    "Although we have our dataset, we need to convert the `Date` to a datetime object and `Impressions`, `Clicks`, and `Budget Delivered` columns to integers and float values for analysis."
   ]
  },
  {
   "cell_type": "code",
   "execution_count": 308,
   "metadata": {},
   "outputs": [],
   "source": [
    "import numpy as np\n",
    "data = pd.read_csv(\"Downloads/CS Interview Test Question Data - Data Viz.csv\", parse_dates=[0], encoding=\"UTF-8\")"
   ]
  },
  {
   "cell_type": "code",
   "execution_count": 309,
   "metadata": {},
   "outputs": [],
   "source": [
    "def int_converter(value):\n",
    "    new_value = int(value.replace(\",\", \"\").replace(\"$\",\"\"))\n",
    "    return new_value\n",
    "\n",
    "def float_converter(value):\n",
    "    new_value = float(value.replace(\",\", \"\").replace(\"$\",\"\"))\n",
    "    return new_value\n",
    "\n",
    "data['Impressions'] = data['Impressions'].apply(int_converter)\n",
    "data['Clicks'] = data['Clicks'].apply(int_converter)\n",
    "data[' Budget Delivered '] = data[' Budget Delivered '].apply(float_converter)"
   ]
  },
  {
   "cell_type": "code",
   "execution_count": 310,
   "metadata": {},
   "outputs": [
    {
     "name": "stdout",
     "output_type": "stream",
     "text": [
      "Index(['Date', 'Impressions', 'Clicks', 'Conversions', ' Budget Delivered '], dtype='object')\n"
     ]
    }
   ],
   "source": [
    "print(data.columns)"
   ]
  },
  {
   "cell_type": "code",
   "execution_count": 311,
   "metadata": {},
   "outputs": [
    {
     "data": {
      "text/html": [
       "<div>\n",
       "<style scoped>\n",
       "    .dataframe tbody tr th:only-of-type {\n",
       "        vertical-align: middle;\n",
       "    }\n",
       "\n",
       "    .dataframe tbody tr th {\n",
       "        vertical-align: top;\n",
       "    }\n",
       "\n",
       "    .dataframe thead th {\n",
       "        text-align: right;\n",
       "    }\n",
       "</style>\n",
       "<table border=\"1\" class=\"dataframe\">\n",
       "  <thead>\n",
       "    <tr style=\"text-align: right;\">\n",
       "      <th></th>\n",
       "      <th>Date</th>\n",
       "      <th>Impressions</th>\n",
       "      <th>Clicks</th>\n",
       "      <th>Conversions</th>\n",
       "      <th>Budget Delivered</th>\n",
       "    </tr>\n",
       "  </thead>\n",
       "  <tbody>\n",
       "    <tr>\n",
       "      <th>0</th>\n",
       "      <td>2019-01-01</td>\n",
       "      <td>11506995</td>\n",
       "      <td>1672</td>\n",
       "      <td>88</td>\n",
       "      <td>12124.14</td>\n",
       "    </tr>\n",
       "    <tr>\n",
       "      <th>1</th>\n",
       "      <td>2019-01-02</td>\n",
       "      <td>9394458</td>\n",
       "      <td>1516</td>\n",
       "      <td>179</td>\n",
       "      <td>9838.45</td>\n",
       "    </tr>\n",
       "    <tr>\n",
       "      <th>2</th>\n",
       "      <td>2019-01-03</td>\n",
       "      <td>4696388</td>\n",
       "      <td>878</td>\n",
       "      <td>129</td>\n",
       "      <td>6858.67</td>\n",
       "    </tr>\n",
       "    <tr>\n",
       "      <th>3</th>\n",
       "      <td>2019-01-04</td>\n",
       "      <td>8987784</td>\n",
       "      <td>1179</td>\n",
       "      <td>107</td>\n",
       "      <td>9566.55</td>\n",
       "    </tr>\n",
       "    <tr>\n",
       "      <th>4</th>\n",
       "      <td>2019-01-05</td>\n",
       "      <td>8923751</td>\n",
       "      <td>1171</td>\n",
       "      <td>88</td>\n",
       "      <td>9322.50</td>\n",
       "    </tr>\n",
       "  </tbody>\n",
       "</table>\n",
       "</div>"
      ],
      "text/plain": [
       "        Date  Impressions  Clicks  Conversions   Budget Delivered \n",
       "0 2019-01-01     11506995    1672           88            12124.14\n",
       "1 2019-01-02      9394458    1516          179             9838.45\n",
       "2 2019-01-03      4696388     878          129             6858.67\n",
       "3 2019-01-04      8987784    1179          107             9566.55\n",
       "4 2019-01-05      8923751    1171           88             9322.50"
      ]
     },
     "execution_count": 311,
     "metadata": {},
     "output_type": "execute_result"
    }
   ],
   "source": [
    "data.head(5)"
   ]
  },
  {
   "cell_type": "code",
   "execution_count": 312,
   "metadata": {
    "scrolled": true
   },
   "outputs": [
    {
     "name": "stdout",
     "output_type": "stream",
     "text": [
      "<class 'pandas.core.frame.DataFrame'>\n",
      "RangeIndex: 365 entries, 0 to 364\n",
      "Data columns (total 5 columns):\n",
      " #   Column              Non-Null Count  Dtype         \n",
      "---  ------              --------------  -----         \n",
      " 0   Date                365 non-null    datetime64[ns]\n",
      " 1   Impressions         365 non-null    int64         \n",
      " 2   Clicks              365 non-null    int64         \n",
      " 3   Conversions         365 non-null    int64         \n",
      " 4    Budget Delivered   365 non-null    float64       \n",
      "dtypes: datetime64[ns](1), float64(1), int64(3)\n",
      "memory usage: 14.4 KB\n"
     ]
    }
   ],
   "source": [
    "data.info()"
   ]
  },
  {
   "cell_type": "markdown",
   "metadata": {},
   "source": [
    "## Summary Statistics\n",
    "With our cleaned data we can now take a look at the over all performance of the campaign. We'll use summary statistics to get an overview of the campaign and then deep dive into the campaign's story."
   ]
  },
  {
   "cell_type": "code",
   "execution_count": 313,
   "metadata": {},
   "outputs": [
    {
     "data": {
      "text/html": [
       "<div>\n",
       "<style scoped>\n",
       "    .dataframe tbody tr th:only-of-type {\n",
       "        vertical-align: middle;\n",
       "    }\n",
       "\n",
       "    .dataframe tbody tr th {\n",
       "        vertical-align: top;\n",
       "    }\n",
       "\n",
       "    .dataframe thead th {\n",
       "        text-align: right;\n",
       "    }\n",
       "</style>\n",
       "<table border=\"1\" class=\"dataframe\">\n",
       "  <thead>\n",
       "    <tr style=\"text-align: right;\">\n",
       "      <th></th>\n",
       "      <th>Budget Delivered</th>\n",
       "      <th>Clicks</th>\n",
       "      <th>Conversions</th>\n",
       "      <th>Impressions</th>\n",
       "    </tr>\n",
       "    <tr>\n",
       "      <th>count_of_days</th>\n",
       "      <th></th>\n",
       "      <th></th>\n",
       "      <th></th>\n",
       "      <th></th>\n",
       "    </tr>\n",
       "  </thead>\n",
       "  <tbody>\n",
       "    <tr>\n",
       "      <th>365</th>\n",
       "      <td>4127477.06</td>\n",
       "      <td>741853</td>\n",
       "      <td>29914</td>\n",
       "      <td>4020164316</td>\n",
       "    </tr>\n",
       "  </tbody>\n",
       "</table>\n",
       "</div>"
      ],
      "text/plain": [
       "                Budget Delivered   Clicks  Conversions  Impressions\n",
       "count_of_days                                                      \n",
       "365                    4127477.06  741853        29914   4020164316"
      ]
     },
     "execution_count": 313,
     "metadata": {},
     "output_type": "execute_result"
    }
   ],
   "source": [
    "data['count_of_days'] = data.shape[0]\n",
    "data.pivot_table(index='count_of_days', values=['Impressions', 'Clicks', 'Conversions', ' Budget Delivered '], aggfunc=\"sum\")"
   ]
  },
  {
   "cell_type": "markdown",
   "metadata": {},
   "source": [
    "From the summary table above we can see that the campaign ran for a full year. It delivered 4,020,164,316 impressions at a cost of $4,127,477.06. The campaign recorded 741,853 clicks and 29,914 conversions. \n",
    "\n",
    "Let's use some of the information in these columns to identify the `CTR`, `CPA`, and `Conversion Rate`"
   ]
  },
  {
   "cell_type": "code",
   "execution_count": 314,
   "metadata": {},
   "outputs": [
    {
     "data": {
      "text/html": [
       "<div>\n",
       "<style scoped>\n",
       "    .dataframe tbody tr th:only-of-type {\n",
       "        vertical-align: middle;\n",
       "    }\n",
       "\n",
       "    .dataframe tbody tr th {\n",
       "        vertical-align: top;\n",
       "    }\n",
       "\n",
       "    .dataframe thead th {\n",
       "        text-align: right;\n",
       "    }\n",
       "</style>\n",
       "<table border=\"1\" class=\"dataframe\">\n",
       "  <thead>\n",
       "    <tr style=\"text-align: right;\">\n",
       "      <th></th>\n",
       "      <th>Date</th>\n",
       "      <th>Impressions</th>\n",
       "      <th>Clicks</th>\n",
       "      <th>Conversions</th>\n",
       "      <th>Budget Delivered</th>\n",
       "      <th>count_of_days</th>\n",
       "      <th>CTR</th>\n",
       "      <th>CPA</th>\n",
       "      <th>conversion_rate</th>\n",
       "    </tr>\n",
       "  </thead>\n",
       "  <tbody>\n",
       "    <tr>\n",
       "      <th>0</th>\n",
       "      <td>2019-01-01</td>\n",
       "      <td>11506995</td>\n",
       "      <td>1672</td>\n",
       "      <td>88</td>\n",
       "      <td>12124.14</td>\n",
       "      <td>365</td>\n",
       "      <td>0.014530</td>\n",
       "      <td>137.774318</td>\n",
       "      <td>0.000765</td>\n",
       "    </tr>\n",
       "    <tr>\n",
       "      <th>1</th>\n",
       "      <td>2019-01-02</td>\n",
       "      <td>9394458</td>\n",
       "      <td>1516</td>\n",
       "      <td>179</td>\n",
       "      <td>9838.45</td>\n",
       "      <td>365</td>\n",
       "      <td>0.016137</td>\n",
       "      <td>54.963408</td>\n",
       "      <td>0.001905</td>\n",
       "    </tr>\n",
       "    <tr>\n",
       "      <th>2</th>\n",
       "      <td>2019-01-03</td>\n",
       "      <td>4696388</td>\n",
       "      <td>878</td>\n",
       "      <td>129</td>\n",
       "      <td>6858.67</td>\n",
       "      <td>365</td>\n",
       "      <td>0.018695</td>\n",
       "      <td>53.167984</td>\n",
       "      <td>0.002747</td>\n",
       "    </tr>\n",
       "    <tr>\n",
       "      <th>3</th>\n",
       "      <td>2019-01-04</td>\n",
       "      <td>8987784</td>\n",
       "      <td>1179</td>\n",
       "      <td>107</td>\n",
       "      <td>9566.55</td>\n",
       "      <td>365</td>\n",
       "      <td>0.013118</td>\n",
       "      <td>89.407009</td>\n",
       "      <td>0.001191</td>\n",
       "    </tr>\n",
       "    <tr>\n",
       "      <th>4</th>\n",
       "      <td>2019-01-05</td>\n",
       "      <td>8923751</td>\n",
       "      <td>1171</td>\n",
       "      <td>88</td>\n",
       "      <td>9322.50</td>\n",
       "      <td>365</td>\n",
       "      <td>0.013122</td>\n",
       "      <td>105.937500</td>\n",
       "      <td>0.000986</td>\n",
       "    </tr>\n",
       "    <tr>\n",
       "      <th>...</th>\n",
       "      <td>...</td>\n",
       "      <td>...</td>\n",
       "      <td>...</td>\n",
       "      <td>...</td>\n",
       "      <td>...</td>\n",
       "      <td>...</td>\n",
       "      <td>...</td>\n",
       "      <td>...</td>\n",
       "      <td>...</td>\n",
       "    </tr>\n",
       "    <tr>\n",
       "      <th>360</th>\n",
       "      <td>2019-12-27</td>\n",
       "      <td>8171743</td>\n",
       "      <td>1206</td>\n",
       "      <td>37</td>\n",
       "      <td>12471.14</td>\n",
       "      <td>365</td>\n",
       "      <td>0.014758</td>\n",
       "      <td>337.057838</td>\n",
       "      <td>0.000453</td>\n",
       "    </tr>\n",
       "    <tr>\n",
       "      <th>361</th>\n",
       "      <td>2019-12-28</td>\n",
       "      <td>7292646</td>\n",
       "      <td>1331</td>\n",
       "      <td>26</td>\n",
       "      <td>10764.17</td>\n",
       "      <td>365</td>\n",
       "      <td>0.018251</td>\n",
       "      <td>414.006538</td>\n",
       "      <td>0.000357</td>\n",
       "    </tr>\n",
       "    <tr>\n",
       "      <th>362</th>\n",
       "      <td>2019-12-29</td>\n",
       "      <td>6432027</td>\n",
       "      <td>1093</td>\n",
       "      <td>41</td>\n",
       "      <td>9176.01</td>\n",
       "      <td>365</td>\n",
       "      <td>0.016993</td>\n",
       "      <td>223.805122</td>\n",
       "      <td>0.000637</td>\n",
       "    </tr>\n",
       "    <tr>\n",
       "      <th>363</th>\n",
       "      <td>2019-12-30</td>\n",
       "      <td>5978860</td>\n",
       "      <td>1073</td>\n",
       "      <td>43</td>\n",
       "      <td>8436.32</td>\n",
       "      <td>365</td>\n",
       "      <td>0.017947</td>\n",
       "      <td>196.193488</td>\n",
       "      <td>0.000719</td>\n",
       "    </tr>\n",
       "    <tr>\n",
       "      <th>364</th>\n",
       "      <td>2019-12-31</td>\n",
       "      <td>2213623</td>\n",
       "      <td>378</td>\n",
       "      <td>35</td>\n",
       "      <td>3166.47</td>\n",
       "      <td>365</td>\n",
       "      <td>0.017076</td>\n",
       "      <td>90.470571</td>\n",
       "      <td>0.001581</td>\n",
       "    </tr>\n",
       "  </tbody>\n",
       "</table>\n",
       "<p>365 rows × 9 columns</p>\n",
       "</div>"
      ],
      "text/plain": [
       "          Date  Impressions  Clicks  Conversions   Budget Delivered   \\\n",
       "0   2019-01-01     11506995    1672           88            12124.14   \n",
       "1   2019-01-02      9394458    1516          179             9838.45   \n",
       "2   2019-01-03      4696388     878          129             6858.67   \n",
       "3   2019-01-04      8987784    1179          107             9566.55   \n",
       "4   2019-01-05      8923751    1171           88             9322.50   \n",
       "..         ...          ...     ...          ...                 ...   \n",
       "360 2019-12-27      8171743    1206           37            12471.14   \n",
       "361 2019-12-28      7292646    1331           26            10764.17   \n",
       "362 2019-12-29      6432027    1093           41             9176.01   \n",
       "363 2019-12-30      5978860    1073           43             8436.32   \n",
       "364 2019-12-31      2213623     378           35             3166.47   \n",
       "\n",
       "     count_of_days       CTR         CPA  conversion_rate  \n",
       "0              365  0.014530  137.774318         0.000765  \n",
       "1              365  0.016137   54.963408         0.001905  \n",
       "2              365  0.018695   53.167984         0.002747  \n",
       "3              365  0.013118   89.407009         0.001191  \n",
       "4              365  0.013122  105.937500         0.000986  \n",
       "..             ...       ...         ...              ...  \n",
       "360            365  0.014758  337.057838         0.000453  \n",
       "361            365  0.018251  414.006538         0.000357  \n",
       "362            365  0.016993  223.805122         0.000637  \n",
       "363            365  0.017947  196.193488         0.000719  \n",
       "364            365  0.017076   90.470571         0.001581  \n",
       "\n",
       "[365 rows x 9 columns]"
      ]
     },
     "execution_count": 314,
     "metadata": {},
     "output_type": "execute_result"
    }
   ],
   "source": [
    "data['CTR'] = data['Clicks']/data['Impressions']*100\n",
    "data['CPA'] = data[' Budget Delivered ']/data['Conversions']\n",
    "data['conversion_rate'] = data['Conversions']/data['Impressions']*100\n",
    "data"
   ]
  },
  {
   "cell_type": "code",
   "execution_count": 315,
   "metadata": {},
   "outputs": [
    {
     "data": {
      "text/plain": [
       "count    365.000000\n",
       "mean       0.019153\n",
       "std        0.003398\n",
       "min        0.011055\n",
       "25%        0.016464\n",
       "50%        0.018943\n",
       "75%        0.021319\n",
       "max        0.031708\n",
       "Name: CTR, dtype: float64"
      ]
     },
     "execution_count": 315,
     "metadata": {},
     "output_type": "execute_result"
    }
   ],
   "source": [
    "data['CTR'].describe()"
   ]
  },
  {
   "cell_type": "code",
   "execution_count": 316,
   "metadata": {},
   "outputs": [
    {
     "data": {
      "text/plain": [
       "count    365.000000\n",
       "mean     160.000328\n",
       "std      123.025994\n",
       "min        4.247711\n",
       "25%      102.891193\n",
       "50%      125.323909\n",
       "75%      161.885765\n",
       "max      828.826731\n",
       "Name: CPA, dtype: float64"
      ]
     },
     "execution_count": 316,
     "metadata": {},
     "output_type": "execute_result"
    }
   ],
   "source": [
    "data['CPA'].describe()"
   ]
  },
  {
   "cell_type": "markdown",
   "metadata": {},
   "source": [
    "## Visualization: Impressions/Budget Spend for Campaign Duration\n",
    "To get a sense of the overall campaign performance we want to visualize the impression volumes for each month over the year. In order to do this we'll need to update our dataset to get the month values for each row"
   ]
  },
  {
   "cell_type": "code",
   "execution_count": 317,
   "metadata": {},
   "outputs": [],
   "source": [
    "data['month'] = data['Date'].dt.month"
   ]
  },
  {
   "cell_type": "code",
   "execution_count": 318,
   "metadata": {},
   "outputs": [
    {
     "data": {
      "image/png": "[encoded data removed]",
      "text/plain": [
       "<Figure size 720x432 with 1 Axes>"
      ]
     },
     "metadata": {
      "needs_background": "light"
     },
     "output_type": "display_data"
    }
   ],
   "source": [
    "import matplotlib.pyplot as plt\n",
    "%matplotlib inline \n",
    "months = data['month'].unique()\n",
    "plt.figure(figsize=(10,6))\n",
    "plt.bar(months, imps_by_month)\n",
    "avg_imps = imps_by_month.mean()\n",
    "plt.xticks(rotation=0)\n",
    "plt.axhline(avg_imps, c=\"red\")\n",
    "plt.ylabel(\"Impressions in Hundreds of Millions\")\n",
    "plt.xlabel(\"Months\")\n",
    "plt.title(\"Impressions in 2019\")\n",
    "plt.show()"
   ]
  },
  {
   "cell_type": "markdown",
   "metadata": {},
   "source": [
    "From the above chart we can see that the campaign did not perform as consistently in the second-half of the year. From July to November only one month (Steptember) performed near the campaign average for impressions. December recorded the highest number of impressions of any month, but in comparison to the previous months, it appears this increase is a could be a result of under-delivery in the previous months.\n",
    "\n",
    "Next let's take a look at the budget allocation and see if this matches with the impression volumes."
   ]
  },
  {
   "cell_type": "code",
   "execution_count": 319,
   "metadata": {
    "scrolled": false
   },
   "outputs": [
    {
     "data": {
      "image/png": "[encoded data removed]",
      "text/plain": [
       "<Figure size 648x432 with 1 Axes>"
      ]
     },
     "metadata": {
      "needs_background": "light"
     },
     "output_type": "display_data"
    }
   ],
   "source": [
    "budget_by_month = data.groupby('month')[' Budget Delivered '].sum()\n",
    "plt.figure(figsize=(9,6))\n",
    "plt.bar(months, budget_by_month)\n",
    "avg_budget = budget_by_month.mean()\n",
    "plt.xticks(rotation=0)\n",
    "plt.axhline(avg_budget, c=\"red\")\n",
    "plt.ylabel(\"Budget\")\n",
    "plt.xlabel(\"Months\")\n",
    "plt.title(\"Ad-Spend by Month of 2019\")\n",
    "plt.show()"
   ]
  },
  {
   "cell_type": "markdown",
   "metadata": {},
   "source": [
    "As expected we see impression performance mirror the budget. From these two charts a reasonable conclusion is something happened in October that affected the budget and as a result affecting impressions. Let's take a look at another metric to get a better idea of the campaign performance."
   ]
  },
  {
   "cell_type": "code",
   "execution_count": 320,
   "metadata": {},
   "outputs": [
    {
     "data": {
      "image/png": "[encoded data removed]",
      "text/plain": [
       "<Figure size 720x432 with 1 Axes>"
      ]
     },
     "metadata": {
      "needs_background": "light"
     },
     "output_type": "display_data"
    }
   ],
   "source": [
    "cpa_by_month = data.groupby('month')['CPA'].sum()\n",
    "plt.figure(figsize=(10,6))\n",
    "plt.bar(months, cpa_by_month)\n",
    "plt.xticks(rotation=0)\n",
    "plt.ylabel(\"CPA\")\n",
    "plt.xlabel(\"Months\")\n",
    "plt.title(\"Cost/Action in 2019\")\n",
    "plt.show()"
   ]
  },
  {
   "cell_type": "markdown",
   "metadata": {},
   "source": [
    "From the above table it is clear that between October and November there was a change. Although budget was low in October the CPA remained in-line with the campaign. However the CPA significantly increased in November while budget still remained low. The Hypothesis is that there was a change in CPM that occured in November."
   ]
  },
  {
   "cell_type": "markdown",
   "metadata": {},
   "source": [
    "## Vizualization: Click-Thru and Conversion Rates\n",
    "Our hypothesis is that something occured in November that caused the CPA to significantly increase. We're going to review the performance of the CTR and Conversion Rate to see how these metrics were impacting the campaign performance."
   ]
  },
  {
   "cell_type": "code",
   "execution_count": 321,
   "metadata": {},
   "outputs": [
    {
     "data": {
      "image/png": "[encoded data removed]",
      "text/plain": [
       "<Figure size 1152x360 with 2 Axes>"
      ]
     },
     "metadata": {
      "needs_background": "light"
     },
     "output_type": "display_data"
    }
   ],
   "source": [
    "ctr = data.groupby('month')['CTR'].sum()\n",
    "conv_rate = data.groupby('month')['conversion_rate'].sum()\n",
    "plt.figure(figsize=(16,5))\n",
    "plt.subplot(1,2,1)\n",
    "plt.title(\"CTR 2019\")\n",
    "plt.axhline(ctr.mean(), c=\"red\")\n",
    "ctr.plot()\n",
    "plt.subplot(1,2,2)\n",
    "plt.title(\"Conversion Rate 2019\")\n",
    "plt.axhline(conv_rate.mean(), c=\"red\")\n",
    "conv_rate.plot()\n",
    "plt.show()"
   ]
  },
  {
   "cell_type": "markdown",
   "metadata": {},
   "source": [
    "After reviewing the CTR and Conversion Rates for the 2019 campaign, we can see some clear trends. The CTR of the campaign begins to perform above the average after six months. The CTR continues to increase, peaking in November. \n",
    "\n",
    "Similarly, the conversion rate of the campaign begins to pick up in the second-half of the year. The conversion rate performance continues to increase until peaking in Steptember. \n",
    "\n",
    "What is significant is the precipitous drop in both CTR and Conversion Rate after October. This coincides with the increase in in CPA observed in November and December and culminates problematically with the significant increase in the campaign budget in December."
   ]
  },
  {
   "cell_type": "code",
   "execution_count": 322,
   "metadata": {},
   "outputs": [
    {
     "data": {
      "image/png": "[encoded data removed]",
      "text/plain": [
       "<Figure size 1152x360 with 4 Axes>"
      ]
     },
     "metadata": {
      "needs_background": "light"
     },
     "output_type": "display_data"
    }
   ],
   "source": [
    "month_summary = data.groupby('month')[['Impressions', 'CTR', 'conversion_rate']].sum()\n",
    "plt.figure(figsize=(16,5))\n",
    "plt.subplot(1,2,1)\n",
    "plt.title(\"Impressions by CTR\")\n",
    "plt.bar(months, month_summary['Impressions'])\n",
    "month_summary['CTR'].plot(secondary_y=True, c=\"red\")\n",
    "\n",
    "plt.subplot(1,2,2)\n",
    "plt.title(\"Impressions by Conversion Rate\")\n",
    "plt.bar(months, month_summary['Impressions'])\n",
    "month_summary['conversion_rate'].plot(secondary_y=True, c=\"red\")\n",
    "plt.show()"
   ]
  },
  {
   "cell_type": "markdown",
   "metadata": {},
   "source": [
    "## Conclusions\n",
    "Hindsight is 20/20 and there are a few points in the campaign 2019 that deserve a deeper dive, yet nothing is more salient than the abrupt change in campaign performance in November. For the first six months, the 2019 campaign’s impressions, spend, and CTR, conversion rates are relatively consistent. A major change occurs in June/July; the campaign begins to find not only an audience but real customers as well. Impressions starting in June/July begin to decrease, but the engagement and conversions jump significantly, it is apparent that in these months (June - October) the campaign hit the sweet spot, finding the right audience for their product, realizing an increase in conversions. \n",
    "\n",
    "The good times roll until November. It is at this point that the performance of the campaign takes a serious hit. Although spend is not at its peak yet, the Cost/Action spikes as a result of the significant decrease in Conversion Rate. Interestingly, the CTR is at an all-time high in November. There is clearly a disconnect between the advertising experience and the site experience.\n",
    "\n",
    "However, the situation worsens as the campaign moves into December. Not only, is spend the highest it has been for the campaign, the conversion rate has dropped to it’s lowest level. Similarly, the CTR rate has also dropped significantly. What is most concerning is the campaign is delivering more impressions than ever but conversions are not meeting pace. It’s clear from the lack of sales and the drop in engagement that something has negatively impacted the campaign. \n",
    "\n",
    "There are a few possible scenarios to explain the sudden change in campaign performance. The advertiser could be tone-deaf and there could have been a change in the creative/copy that resulted in consumer backlash. This would explain the sudden decrease in conversions while ad-spend soared to peak levels. The product could be seasonal. The campaign’s best performing months were between Spring, Summer and early Fall. Performance may have suffered as the calendar moved into the winter months. IT is also possible the advertiser changed tactics and began targeting a new and possibly more expensive audience who did not respond well to the marketing.\n",
    "\n",
    "Although the potential causes for the share decline of the campaign are murky, the recommendations are more clear. In November the CTR performs at an all-time high, but the conversion rate drops significantly. Customers are driving to the site but not purchasing, indicating further review of the customer site experience is needed. Perhaps the check-out experience is confusing or perhaps customers are not able to find their desired product, whatever the case investigating the disconnect is paramount.\n",
    "\n",
    "Additionally, campaign performance was at its best from June/July to October. It is reasonable to suggest the tactics employed at this juncture should be repeated. More information is needed to understand what was the creative direction, the audience targets, the publishers involved in the campaign. Nonetheless, it stands to reason that campaign performance would improve by replicating the tactics used during the June - October timeframe."
   ]
  },
  {
   "cell_type": "code",
   "execution_count": null,
   "metadata": {},
   "outputs": [],
   "source": []
  }
 ],
 "metadata": {
  "kernelspec": {
   "display_name": "Python 3",
   "language": "python",
   "name": "python3"
  },
  "language_info": {
   "codemirror_mode": {
    "name": "ipython",
    "version": 3
   },
   "file_extension": ".py",
   "mimetype": "text/x-python",
   "name": "python",
   "nbconvert_exporter": "python",
   "pygments_lexer": "ipython3",
   "version": "3.8.5"
  }
 },
 "nbformat": 4,
 "nbformat_minor": 4
}
